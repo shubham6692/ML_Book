{
 "cells": [
  {
   "cell_type": "code",
   "execution_count": 10,
   "metadata": {},
   "outputs": [
    {
     "data": {
      "application/javascript": [
       "\n",
       "        if (window._pyforest_update_imports_cell) { window._pyforest_update_imports_cell('import matplotlib.pyplot as plt\\nimport numpy as np'); }\n",
       "    "
      ],
      "text/plain": [
       "<IPython.core.display.Javascript object>"
      ]
     },
     "metadata": {},
     "output_type": "display_data"
    },
    {
     "data": {
      "application/javascript": [
       "\n",
       "        if (window._pyforest_update_imports_cell) { window._pyforest_update_imports_cell('import matplotlib.pyplot as plt\\nimport numpy as np'); }\n",
       "    "
      ],
      "text/plain": [
       "<IPython.core.display.Javascript object>"
      ]
     },
     "metadata": {},
     "output_type": "display_data"
    },
    {
     "ename": "ValueError",
     "evalue": "`bins` must increase monotonically, when an array",
     "output_type": "error",
     "traceback": [
      "\u001b[1;31m---------------------------------------------------------------------------\u001b[0m",
      "\u001b[1;31mValueError\u001b[0m                                Traceback (most recent call last)",
      "\u001b[1;32m<ipython-input-10-c9bde7d62fcc>\u001b[0m in \u001b[0;36m<module>\u001b[1;34m\u001b[0m\n\u001b[0;32m      7\u001b[0m cluster_std=blob_std, random_state=7)\n\u001b[0;32m      8\u001b[0m \u001b[1;31m#plt.figure(figsize=(8, 4))\u001b[0m\u001b[1;33m\u001b[0m\u001b[1;33m\u001b[0m\u001b[1;33m\u001b[0m\u001b[0m\n\u001b[1;32m----> 9\u001b[1;33m \u001b[0msns\u001b[0m\u001b[1;33m.\u001b[0m\u001b[0mdistplot\u001b[0m\u001b[1;33m(\u001b[0m\u001b[0mX\u001b[0m\u001b[1;33m,\u001b[0m\u001b[0my\u001b[0m\u001b[1;33m)\u001b[0m\u001b[1;33m\u001b[0m\u001b[1;33m\u001b[0m\u001b[0m\n\u001b[0m\u001b[0;32m     10\u001b[0m \u001b[1;31m#save_fig(\"blobs_plot\")\u001b[0m\u001b[1;33m\u001b[0m\u001b[1;33m\u001b[0m\u001b[1;33m\u001b[0m\u001b[0m\n\u001b[0;32m     11\u001b[0m \u001b[0mplt\u001b[0m\u001b[1;33m.\u001b[0m\u001b[0mshow\u001b[0m\u001b[1;33m(\u001b[0m\u001b[1;33m)\u001b[0m\u001b[1;33m\u001b[0m\u001b[1;33m\u001b[0m\u001b[0m\n",
      "\u001b[1;32m~\\Anaconda3\\lib\\site-packages\\seaborn\\distributions.py\u001b[0m in \u001b[0;36mdistplot\u001b[1;34m(a, bins, hist, kde, rug, fit, hist_kws, kde_kws, rug_kws, fit_kws, color, vertical, norm_hist, axlabel, label, ax)\u001b[0m\n\u001b[0;32m    219\u001b[0m         \u001b[0morientation\u001b[0m \u001b[1;33m=\u001b[0m \u001b[1;34m\"horizontal\"\u001b[0m \u001b[1;32mif\u001b[0m \u001b[0mvertical\u001b[0m \u001b[1;32melse\u001b[0m \u001b[1;34m\"vertical\"\u001b[0m\u001b[1;33m\u001b[0m\u001b[1;33m\u001b[0m\u001b[0m\n\u001b[0;32m    220\u001b[0m         \u001b[0mhist_color\u001b[0m \u001b[1;33m=\u001b[0m \u001b[0mhist_kws\u001b[0m\u001b[1;33m.\u001b[0m\u001b[0mpop\u001b[0m\u001b[1;33m(\u001b[0m\u001b[1;34m\"color\"\u001b[0m\u001b[1;33m,\u001b[0m \u001b[0mcolor\u001b[0m\u001b[1;33m)\u001b[0m\u001b[1;33m\u001b[0m\u001b[1;33m\u001b[0m\u001b[0m\n\u001b[1;32m--> 221\u001b[1;33m         ax.hist(a, bins, orientation=orientation,\n\u001b[0m\u001b[0;32m    222\u001b[0m                 color=hist_color, **hist_kws)\n\u001b[0;32m    223\u001b[0m         \u001b[1;32mif\u001b[0m \u001b[0mhist_color\u001b[0m \u001b[1;33m!=\u001b[0m \u001b[0mcolor\u001b[0m\u001b[1;33m:\u001b[0m\u001b[1;33m\u001b[0m\u001b[1;33m\u001b[0m\u001b[0m\n",
      "\u001b[1;32m~\\Anaconda3\\lib\\site-packages\\matplotlib\\__init__.py\u001b[0m in \u001b[0;36minner\u001b[1;34m(ax, data, *args, **kwargs)\u001b[0m\n\u001b[0;32m   1563\u001b[0m     \u001b[1;32mdef\u001b[0m \u001b[0minner\u001b[0m\u001b[1;33m(\u001b[0m\u001b[0max\u001b[0m\u001b[1;33m,\u001b[0m \u001b[1;33m*\u001b[0m\u001b[0margs\u001b[0m\u001b[1;33m,\u001b[0m \u001b[0mdata\u001b[0m\u001b[1;33m=\u001b[0m\u001b[1;32mNone\u001b[0m\u001b[1;33m,\u001b[0m \u001b[1;33m**\u001b[0m\u001b[0mkwargs\u001b[0m\u001b[1;33m)\u001b[0m\u001b[1;33m:\u001b[0m\u001b[1;33m\u001b[0m\u001b[1;33m\u001b[0m\u001b[0m\n\u001b[0;32m   1564\u001b[0m         \u001b[1;32mif\u001b[0m \u001b[0mdata\u001b[0m \u001b[1;32mis\u001b[0m \u001b[1;32mNone\u001b[0m\u001b[1;33m:\u001b[0m\u001b[1;33m\u001b[0m\u001b[1;33m\u001b[0m\u001b[0m\n\u001b[1;32m-> 1565\u001b[1;33m             \u001b[1;32mreturn\u001b[0m \u001b[0mfunc\u001b[0m\u001b[1;33m(\u001b[0m\u001b[0max\u001b[0m\u001b[1;33m,\u001b[0m \u001b[1;33m*\u001b[0m\u001b[0mmap\u001b[0m\u001b[1;33m(\u001b[0m\u001b[0msanitize_sequence\u001b[0m\u001b[1;33m,\u001b[0m \u001b[0margs\u001b[0m\u001b[1;33m)\u001b[0m\u001b[1;33m,\u001b[0m \u001b[1;33m**\u001b[0m\u001b[0mkwargs\u001b[0m\u001b[1;33m)\u001b[0m\u001b[1;33m\u001b[0m\u001b[1;33m\u001b[0m\u001b[0m\n\u001b[0m\u001b[0;32m   1566\u001b[0m \u001b[1;33m\u001b[0m\u001b[0m\n\u001b[0;32m   1567\u001b[0m         \u001b[0mbound\u001b[0m \u001b[1;33m=\u001b[0m \u001b[0mnew_sig\u001b[0m\u001b[1;33m.\u001b[0m\u001b[0mbind\u001b[0m\u001b[1;33m(\u001b[0m\u001b[0max\u001b[0m\u001b[1;33m,\u001b[0m \u001b[1;33m*\u001b[0m\u001b[0margs\u001b[0m\u001b[1;33m,\u001b[0m \u001b[1;33m**\u001b[0m\u001b[0mkwargs\u001b[0m\u001b[1;33m)\u001b[0m\u001b[1;33m\u001b[0m\u001b[1;33m\u001b[0m\u001b[0m\n",
      "\u001b[1;32m~\\Anaconda3\\lib\\site-packages\\matplotlib\\axes\\_axes.py\u001b[0m in \u001b[0;36mhist\u001b[1;34m(self, x, bins, range, density, weights, cumulative, bottom, histtype, align, orientation, rwidth, log, color, label, stacked, **kwargs)\u001b[0m\n\u001b[0;32m   6658\u001b[0m             \u001b[1;31m# this will automatically overwrite bins,\u001b[0m\u001b[1;33m\u001b[0m\u001b[1;33m\u001b[0m\u001b[1;33m\u001b[0m\u001b[0m\n\u001b[0;32m   6659\u001b[0m             \u001b[1;31m# so that each histogram uses the same bins\u001b[0m\u001b[1;33m\u001b[0m\u001b[1;33m\u001b[0m\u001b[1;33m\u001b[0m\u001b[0m\n\u001b[1;32m-> 6660\u001b[1;33m             \u001b[0mm\u001b[0m\u001b[1;33m,\u001b[0m \u001b[0mbins\u001b[0m \u001b[1;33m=\u001b[0m \u001b[0mnp\u001b[0m\u001b[1;33m.\u001b[0m\u001b[0mhistogram\u001b[0m\u001b[1;33m(\u001b[0m\u001b[0mx\u001b[0m\u001b[1;33m[\u001b[0m\u001b[0mi\u001b[0m\u001b[1;33m]\u001b[0m\u001b[1;33m,\u001b[0m \u001b[0mbins\u001b[0m\u001b[1;33m,\u001b[0m \u001b[0mweights\u001b[0m\u001b[1;33m=\u001b[0m\u001b[0mw\u001b[0m\u001b[1;33m[\u001b[0m\u001b[0mi\u001b[0m\u001b[1;33m]\u001b[0m\u001b[1;33m,\u001b[0m \u001b[1;33m**\u001b[0m\u001b[0mhist_kwargs\u001b[0m\u001b[1;33m)\u001b[0m\u001b[1;33m\u001b[0m\u001b[1;33m\u001b[0m\u001b[0m\n\u001b[0m\u001b[0;32m   6661\u001b[0m             \u001b[0mtops\u001b[0m\u001b[1;33m.\u001b[0m\u001b[0mappend\u001b[0m\u001b[1;33m(\u001b[0m\u001b[0mm\u001b[0m\u001b[1;33m)\u001b[0m\u001b[1;33m\u001b[0m\u001b[1;33m\u001b[0m\u001b[0m\n\u001b[0;32m   6662\u001b[0m         \u001b[0mtops\u001b[0m \u001b[1;33m=\u001b[0m \u001b[0mnp\u001b[0m\u001b[1;33m.\u001b[0m\u001b[0marray\u001b[0m\u001b[1;33m(\u001b[0m\u001b[0mtops\u001b[0m\u001b[1;33m,\u001b[0m \u001b[0mfloat\u001b[0m\u001b[1;33m)\u001b[0m  \u001b[1;31m# causes problems later if it's an int\u001b[0m\u001b[1;33m\u001b[0m\u001b[1;33m\u001b[0m\u001b[0m\n",
      "\u001b[1;32m<__array_function__ internals>\u001b[0m in \u001b[0;36mhistogram\u001b[1;34m(*args, **kwargs)\u001b[0m\n",
      "\u001b[1;32m~\\Anaconda3\\lib\\site-packages\\numpy\\lib\\histograms.py\u001b[0m in \u001b[0;36mhistogram\u001b[1;34m(a, bins, range, normed, weights, density)\u001b[0m\n\u001b[0;32m    790\u001b[0m     \u001b[0ma\u001b[0m\u001b[1;33m,\u001b[0m \u001b[0mweights\u001b[0m \u001b[1;33m=\u001b[0m \u001b[0m_ravel_and_check_weights\u001b[0m\u001b[1;33m(\u001b[0m\u001b[0ma\u001b[0m\u001b[1;33m,\u001b[0m \u001b[0mweights\u001b[0m\u001b[1;33m)\u001b[0m\u001b[1;33m\u001b[0m\u001b[1;33m\u001b[0m\u001b[0m\n\u001b[0;32m    791\u001b[0m \u001b[1;33m\u001b[0m\u001b[0m\n\u001b[1;32m--> 792\u001b[1;33m     \u001b[0mbin_edges\u001b[0m\u001b[1;33m,\u001b[0m \u001b[0muniform_bins\u001b[0m \u001b[1;33m=\u001b[0m \u001b[0m_get_bin_edges\u001b[0m\u001b[1;33m(\u001b[0m\u001b[0ma\u001b[0m\u001b[1;33m,\u001b[0m \u001b[0mbins\u001b[0m\u001b[1;33m,\u001b[0m \u001b[0mrange\u001b[0m\u001b[1;33m,\u001b[0m \u001b[0mweights\u001b[0m\u001b[1;33m)\u001b[0m\u001b[1;33m\u001b[0m\u001b[1;33m\u001b[0m\u001b[0m\n\u001b[0m\u001b[0;32m    793\u001b[0m \u001b[1;33m\u001b[0m\u001b[0m\n\u001b[0;32m    794\u001b[0m     \u001b[1;31m# Histogram is an integer or a float array depending on the weights.\u001b[0m\u001b[1;33m\u001b[0m\u001b[1;33m\u001b[0m\u001b[1;33m\u001b[0m\u001b[0m\n",
      "\u001b[1;32m~\\Anaconda3\\lib\\site-packages\\numpy\\lib\\histograms.py\u001b[0m in \u001b[0;36m_get_bin_edges\u001b[1;34m(a, bins, range, weights)\u001b[0m\n\u001b[0;32m    429\u001b[0m         \u001b[0mbin_edges\u001b[0m \u001b[1;33m=\u001b[0m \u001b[0mnp\u001b[0m\u001b[1;33m.\u001b[0m\u001b[0masarray\u001b[0m\u001b[1;33m(\u001b[0m\u001b[0mbins\u001b[0m\u001b[1;33m)\u001b[0m\u001b[1;33m\u001b[0m\u001b[1;33m\u001b[0m\u001b[0m\n\u001b[0;32m    430\u001b[0m         \u001b[1;32mif\u001b[0m \u001b[0mnp\u001b[0m\u001b[1;33m.\u001b[0m\u001b[0many\u001b[0m\u001b[1;33m(\u001b[0m\u001b[0mbin_edges\u001b[0m\u001b[1;33m[\u001b[0m\u001b[1;33m:\u001b[0m\u001b[1;33m-\u001b[0m\u001b[1;36m1\u001b[0m\u001b[1;33m]\u001b[0m \u001b[1;33m>\u001b[0m \u001b[0mbin_edges\u001b[0m\u001b[1;33m[\u001b[0m\u001b[1;36m1\u001b[0m\u001b[1;33m:\u001b[0m\u001b[1;33m]\u001b[0m\u001b[1;33m)\u001b[0m\u001b[1;33m:\u001b[0m\u001b[1;33m\u001b[0m\u001b[1;33m\u001b[0m\u001b[0m\n\u001b[1;32m--> 431\u001b[1;33m             raise ValueError(\n\u001b[0m\u001b[0;32m    432\u001b[0m                 '`bins` must increase monotonically, when an array')\n\u001b[0;32m    433\u001b[0m \u001b[1;33m\u001b[0m\u001b[0m\n",
      "\u001b[1;31mValueError\u001b[0m: `bins` must increase monotonically, when an array"
     ]
    },
    {
     "data": {
      "image/png": "[encoded data removed]",
      "text/plain": [
       "<Figure size 432x288 with 1 Axes>"
      ]
     },
     "metadata": {
      "needs_background": "light"
     },
     "output_type": "display_data"
    }
   ],
   "source": [
    "import seaborn as sns\n",
    "import matplotlib.pyplot as plt\n",
    "from sklearn.datasets import make_blobs\n",
    "blob_centers = np.array([[ 0.2,  2.3],[-1.5 ,  2.3],[-2.8,  1.8],[-2.8,  2.8],[-2.8,  1.3]])\n",
    "blob_std = np.array([0.4, 0.3, 0.1, 0.1, 0.1])\n",
    "X, y = make_blobs(n_samples=2000, centers=blob_centers,\n",
    "cluster_std=blob_std, random_state=7)\n",
    "#plt.figure(figsize=(8, 4))\n",
    "sns.distplot(X,y)\n",
    "#save_fig(\"blobs_plot\")\n",
    "plt.show()"
   ]
  },
  {
   "cell_type": "code",
   "execution_count": 11,
   "metadata": {},
   "outputs": [],
   "source": [
    "from sklearn.cluster import KMeans\n",
    "k = 5\n",
    "kmeans = KMeans(n_clusters=k)\n",
    "y_pred = kmeans.fit_predict(X)"
   ]
  },
  {
   "cell_type": "code",
   "execution_count": 12,
   "metadata": {},
   "outputs": [
    {
     "data": {
      "text/plain": [
       "array([0, 4, 2, ..., 3, 2, 4])"
      ]
     },
     "execution_count": 12,
     "metadata": {},
     "output_type": "execute_result"
    }
   ],
   "source": [
    "y_pred"
   ]
  },
  {
   "cell_type": "code",
   "execution_count": 13,
   "metadata": {},
   "outputs": [
    {
     "data": {
      "text/plain": [
       "True"
      ]
     },
     "execution_count": 13,
     "metadata": {},
     "output_type": "execute_result"
    }
   ],
   "source": [
    "y_pred is kmeans.labels_"
   ]
  },
  {
   "cell_type": "code",
   "execution_count": 14,
   "metadata": {},
   "outputs": [
    {
     "data": {
      "text/plain": [
       "array([[-2.80037642,  1.30082566],\n",
       "       [-1.46063101,  2.2871123 ],\n",
       "       [ 0.21291772,  2.25399958],\n",
       "       [-2.79145317,  2.79524549],\n",
       "       [-2.80389616,  1.80117999]])"
      ]
     },
     "execution_count": 14,
     "metadata": {},
     "output_type": "execute_result"
    }
   ],
   "source": [
    "kmeans.cluster_centers_"
   ]
  },
  {
   "cell_type": "code",
   "execution_count": 15,
   "metadata": {},
   "outputs": [
    {
     "data": {
      "application/javascript": [
       "\n",
       "        if (window._pyforest_update_imports_cell) { window._pyforest_update_imports_cell('import matplotlib.pyplot as plt\\nimport numpy as np'); }\n",
       "    "
      ],
      "text/plain": [
       "<IPython.core.display.Javascript object>"
      ]
     },
     "metadata": {},
     "output_type": "display_data"
    },
    {
     "data": {
      "text/plain": [
       "array([2, 2, 3, 3])"
      ]
     },
     "execution_count": 15,
     "metadata": {},
     "output_type": "execute_result"
    }
   ],
   "source": [
    "X_new = np.array([[0, 2], [3, 2], [-3, 3], [-3, 2.5]])\n",
    "kmeans.predict(X_new)"
   ]
  },
  {
   "cell_type": "code",
   "execution_count": 16,
   "metadata": {},
   "outputs": [
    {
     "data": {
      "text/plain": [
       "array([[2.88633901, 1.48858201, 0.33143587, 2.90252066, 2.81093633],\n",
       "       [5.84236351, 4.46986157, 2.79863242, 5.84579722, 5.80730058],\n",
       "       [1.71086031, 1.69642736, 3.29838701, 0.29226049, 1.21475352],\n",
       "       [1.21567622, 1.55401997, 3.2223216 , 0.36147155, 0.72581411]])"
      ]
     },
     "execution_count": 16,
     "metadata": {},
     "output_type": "execute_result"
    }
   ],
   "source": [
    "kmeans.transform(X_new)"
   ]
  },
  {
   "cell_type": "code",
   "execution_count": 4,
   "metadata": {},
   "outputs": [
    {
     "data": {
      "application/javascript": [
       "\n",
       "        if (window._pyforest_update_imports_cell) { window._pyforest_update_imports_cell('import numpy as np'); }\n",
       "    "
      ],
      "text/plain": [
       "<IPython.core.display.Javascript object>"
      ]
     },
     "metadata": {},
     "output_type": "display_data"
    }
   ],
   "source": [
    "good_init = np.array([[-3, 3], [-3, 2], [-3, 1], [-1, 2], [0, 2]])\n",
    "kmeans = KMeans(n_clusters=5, init=good_init, n_init=1)"
   ]
  },
  {
   "cell_type": "code",
   "execution_count": 3,
   "metadata": {},
   "outputs": [],
   "source": [
    "from sklearn.cluster import KMeans"
   ]
  },
  {
   "cell_type": "code",
   "execution_count": 7,
   "metadata": {},
   "outputs": [
    {
     "ename": "AttributeError",
     "evalue": "'KMeans' object has no attribute 'inertia_'",
     "output_type": "error",
     "traceback": [
      "\u001b[1;31m---------------------------------------------------------------------------\u001b[0m",
      "\u001b[1;31mAttributeError\u001b[0m                            Traceback (most recent call last)",
      "\u001b[1;32m<ipython-input-7-9c859d8e0da1>\u001b[0m in \u001b[0;36m<module>\u001b[1;34m\u001b[0m\n\u001b[1;32m----> 1\u001b[1;33m \u001b[0mkmeans\u001b[0m\u001b[1;33m.\u001b[0m\u001b[0minertia_\u001b[0m\u001b[1;33m\u001b[0m\u001b[1;33m\u001b[0m\u001b[0m\n\u001b[0m",
      "\u001b[1;31mAttributeError\u001b[0m: 'KMeans' object has no attribute 'inertia_'"
     ]
    }
   ],
   "source": [
    "kmeans.inertia_"
   ]
  },
  {
   "cell_type": "code",
   "execution_count": 8,
   "metadata": {},
   "outputs": [
    {
     "ename": "NameError",
     "evalue": "name 'X' is not defined",
     "output_type": "error",
     "traceback": [
      "\u001b[1;31m---------------------------------------------------------------------------\u001b[0m",
      "\u001b[1;31mNameError\u001b[0m                                 Traceback (most recent call last)",
      "\u001b[1;32m<ipython-input-8-a6e85436823b>\u001b[0m in \u001b[0;36m<module>\u001b[1;34m\u001b[0m\n\u001b[1;32m----> 1\u001b[1;33m \u001b[0mkmeans\u001b[0m\u001b[1;33m.\u001b[0m\u001b[0mscore\u001b[0m\u001b[1;33m(\u001b[0m\u001b[0mX\u001b[0m\u001b[1;33m)\u001b[0m\u001b[1;33m\u001b[0m\u001b[1;33m\u001b[0m\u001b[0m\n\u001b[0m",
      "\u001b[1;31mNameError\u001b[0m: name 'X' is not defined"
     ]
    }
   ],
   "source": [
    "kmeans.score(X)"
   ]
  },
  {
   "cell_type": "code",
   "execution_count": 9,
   "metadata": {},
   "outputs": [
    {
     "ename": "NameError",
     "evalue": "name 'X' is not defined",
     "output_type": "error",
     "traceback": [
      "\u001b[1;31m---------------------------------------------------------------------------\u001b[0m",
      "\u001b[1;31mNameError\u001b[0m                                 Traceback (most recent call last)",
      "\u001b[1;32m<ipython-input-9-66896290dd1f>\u001b[0m in \u001b[0;36m<module>\u001b[1;34m\u001b[0m\n\u001b[0;32m      1\u001b[0m \u001b[1;32mfrom\u001b[0m \u001b[0msklearn\u001b[0m\u001b[1;33m.\u001b[0m\u001b[0mcluster\u001b[0m \u001b[1;32mimport\u001b[0m \u001b[0mMiniBatchKMeans\u001b[0m\u001b[1;33m\u001b[0m\u001b[1;33m\u001b[0m\u001b[0m\n\u001b[0;32m      2\u001b[0m \u001b[0mminibatch_kmeans\u001b[0m \u001b[1;33m=\u001b[0m \u001b[0mMiniBatchKMeans\u001b[0m\u001b[1;33m(\u001b[0m\u001b[0mn_clusters\u001b[0m\u001b[1;33m=\u001b[0m\u001b[1;36m5\u001b[0m\u001b[1;33m)\u001b[0m\u001b[1;33m\u001b[0m\u001b[1;33m\u001b[0m\u001b[0m\n\u001b[1;32m----> 3\u001b[1;33m \u001b[0mminibatch_kmeans\u001b[0m\u001b[1;33m.\u001b[0m\u001b[0mfit\u001b[0m\u001b[1;33m(\u001b[0m\u001b[0mX\u001b[0m\u001b[1;33m)\u001b[0m\u001b[1;33m\u001b[0m\u001b[1;33m\u001b[0m\u001b[0m\n\u001b[0m",
      "\u001b[1;31mNameError\u001b[0m: name 'X' is not defined"
     ]
    }
   ],
   "source": [
    "from sklearn.cluster import MiniBatchKMeans\n",
    "minibatch_kmeans = MiniBatchKMeans(n_clusters=5)\n",
    "minibatch_kmeans.fit(X)"
   ]
  },
  {
   "cell_type": "code",
   "execution_count": 10,
   "metadata": {},
   "outputs": [
    {
     "ename": "NameError",
     "evalue": "name 'X' is not defined",
     "output_type": "error",
     "traceback": [
      "\u001b[1;31m---------------------------------------------------------------------------\u001b[0m",
      "\u001b[1;31mNameError\u001b[0m                                 Traceback (most recent call last)",
      "\u001b[1;32m<ipython-input-10-92325d15b136>\u001b[0m in \u001b[0;36m<module>\u001b[1;34m\u001b[0m\n\u001b[0;32m      1\u001b[0m \u001b[1;32mfrom\u001b[0m \u001b[0msklearn\u001b[0m\u001b[1;33m.\u001b[0m\u001b[0mmetrics\u001b[0m \u001b[1;32mimport\u001b[0m \u001b[0msilhouette_score\u001b[0m\u001b[1;33m\u001b[0m\u001b[1;33m\u001b[0m\u001b[0m\n\u001b[1;32m----> 2\u001b[1;33m \u001b[0msilhouette_score\u001b[0m\u001b[1;33m(\u001b[0m\u001b[0mX\u001b[0m\u001b[1;33m,\u001b[0m \u001b[0mkmeans\u001b[0m\u001b[1;33m.\u001b[0m\u001b[0mlabels_\u001b[0m\u001b[1;33m)\u001b[0m\u001b[1;33m\u001b[0m\u001b[1;33m\u001b[0m\u001b[0m\n\u001b[0m",
      "\u001b[1;31mNameError\u001b[0m: name 'X' is not defined"
     ]
    }
   ],
   "source": [
    "from sklearn.metrics import silhouette_score\n",
    "silhouette_score(X, kmeans.labels_)"
   ]
  },
  {
   "cell_type": "code",
   "execution_count": 19,
   "metadata": {},
   "outputs": [
    {
     "data": {
      "text/plain": [
       "DBSCAN(eps=0.2)"
      ]
     },
     "execution_count": 19,
     "metadata": {},
     "output_type": "execute_result"
    }
   ],
   "source": [
    "from sklearn.cluster import DBSCAN\n",
    "from sklearn.datasets import make_moons\n",
    "X, y = make_moons(n_samples=1000, noise=0.05)\n",
    "dbscan = DBSCAN(eps=0.2, min_samples=5)\n",
    "dbscan.fit(X)"
   ]
  },
  {
   "cell_type": "code",
   "execution_count": 20,
   "metadata": {},
   "outputs": [
    {
     "data": {
      "text/plain": [
       "array([0, 0, 0, 1, 0, 0, 0, 0, 1, 1, 1, 0, 1, 0, 1, 1, 0, 0, 0, 1, 0, 1,\n",
       "       0, 1, 1, 0, 1, 1, 1, 1, 1, 0, 0, 0, 0, 1, 0, 1, 1, 1, 0, 0, 1, 1,\n",
       "       0, 1, 1, 1, 1, 1, 0, 1, 1, 0, 0, 0, 1, 0, 0, 0, 0, 0, 1, 0, 1, 0,\n",
       "       0, 1, 1, 0, 1, 0, 0, 1, 1, 1, 0, 1, 0, 0, 0, 1, 1, 1, 0, 0, 1, 1,\n",
       "       1, 1, 1, 0, 0, 0, 0, 1, 1, 1, 0, 1, 1, 1, 1, 1, 1, 0, 1, 1, 1, 0,\n",
       "       1, 0, 0, 0, 0, 1, 1, 1, 1, 0, 0, 0, 0, 1, 1, 0, 1, 1, 1, 1, 0, 0,\n",
       "       1, 0, 1, 1, 0, 1, 0, 1, 1, 1, 1, 0, 1, 1, 0, 1, 1, 0, 1, 0, 1, 0,\n",
       "       1, 1, 1, 1, 1, 0, 1, 0, 0, 0, 1, 0, 1, 0, 1, 1, 0, 0, 0, 1, 0, 1,\n",
       "       1, 0, 1, 1, 1, 1, 1, 0, 1, 1, 0, 1, 1, 1, 0, 1, 0, 1, 1, 1, 0, 0,\n",
       "       1, 1, 1, 1, 0, 1, 1, 1, 1, 0, 0, 1, 0, 0, 1, 1, 0, 1, 0, 0, 1, 0,\n",
       "       0, 0, 0, 1, 0, 1, 1, 1, 0, 0, 0, 0, 1, 1, 0, 1, 0, 0, 1, 0, 0, 1,\n",
       "       0, 1, 1, 1, 1, 1, 0, 0, 0, 1, 0, 1, 1, 1, 0, 0, 0, 1, 1, 1, 1, 1,\n",
       "       0, 1, 1, 1, 1, 1, 0, 1, 1, 0, 0, 1, 0, 0, 1, 1, 0, 0, 0, 1, 0, 1,\n",
       "       0, 0, 0, 0, 0, 0, 0, 1, 0, 0, 1, 0, 1, 0, 0, 1, 1, 0, 0, 1, 1, 1,\n",
       "       0, 0, 0, 1, 0, 0, 1, 0, 0, 1, 1, 1, 1, 0, 1, 0, 1, 1, 0, 0, 1, 1,\n",
       "       1, 0, 0, 0, 0, 0, 1, 1, 1, 0, 0, 1, 1, 0, 1, 0, 1, 1, 0, 1, 1, 0,\n",
       "       1, 1, 0, 1, 0, 0, 1, 1, 1, 1, 0, 0, 0, 1, 1, 1, 0, 0, 0, 1, 0, 1,\n",
       "       0, 0, 0, 0, 1, 0, 1, 0, 1, 0, 1, 0, 0, 1, 1, 1, 0, 0, 1, 0, 0, 0,\n",
       "       0, 0, 0, 0, 0, 1, 0, 0, 0, 1, 1, 0, 0, 0, 1, 1, 0, 0, 1, 1, 1, 0,\n",
       "       1, 0, 1, 0, 0, 0, 1, 0, 1, 0, 1, 0, 1, 1, 0, 1, 1, 1, 1, 0, 1, 0,\n",
       "       0, 1, 1, 0, 1, 1, 0, 1, 1, 1, 1, 0, 1, 0, 0, 0, 1, 1, 1, 1, 1, 1,\n",
       "       0, 0, 0, 0, 0, 1, 1, 1, 1, 1, 1, 1, 0, 0, 0, 0, 1, 0, 1, 0, 0, 0,\n",
       "       1, 0, 0, 0, 0, 1, 0, 0, 0, 1, 0, 0, 0, 1, 1, 1, 1, 1, 1, 0, 0, 1,\n",
       "       1, 0, 1, 1, 1, 1, 1, 0, 0, 1, 0, 1, 0, 1, 0, 0, 1, 0, 0, 0, 0, 0,\n",
       "       1, 1, 0, 1, 1, 0, 0, 1, 0, 0, 0, 0, 1, 0, 0, 1, 0, 0, 0, 0, 0, 0,\n",
       "       1, 0, 1, 0, 0, 1, 1, 1, 0, 1, 0, 0, 1, 0, 0, 1, 0, 0, 0, 0, 1, 0,\n",
       "       1, 0, 1, 0, 1, 0, 0, 0, 0, 0, 0, 0, 1, 1, 1, 0, 1, 1, 1, 0, 1, 0,\n",
       "       0, 0, 1, 0, 0, 0, 1, 0, 0, 1, 0, 1, 0, 1, 1, 1, 1, 1, 0, 0, 0, 0,\n",
       "       0, 1, 0, 1, 1, 1, 0, 1, 0, 0, 1, 0, 1, 1, 0, 1, 0, 0, 1, 1, 1, 1,\n",
       "       0, 1, 0, 1, 1, 1, 0, 0, 1, 0, 1, 1, 1, 0, 1, 1, 1, 0, 0, 1, 1, 1,\n",
       "       0, 0, 1, 0, 0, 1, 0, 0, 1, 1, 1, 1, 0, 0, 1, 0, 0, 0, 0, 1, 1, 0,\n",
       "       0, 0, 0, 1, 0, 1, 0, 1, 1, 0, 1, 0, 0, 1, 0, 1, 1, 1, 0, 1, 0, 0,\n",
       "       0, 0, 0, 1, 0, 1, 1, 1, 0, 0, 0, 1, 1, 0, 1, 1, 0, 1, 1, 0, 1, 1,\n",
       "       0, 0, 0, 0, 0, 1, 1, 1, 0, 0, 0, 1, 0, 1, 0, 0, 1, 1, 0, 1, 1, 1,\n",
       "       0, 1, 1, 1, 1, 0, 0, 0, 0, 1, 0, 0, 1, 0, 0, 0, 0, 0, 1, 0, 0, 0,\n",
       "       1, 0, 1, 0, 0, 0, 0, 1, 1, 1, 1, 1, 0, 0, 1, 0, 0, 0, 0, 0, 1, 1,\n",
       "       1, 0, 1, 0, 1, 1, 0, 0, 0, 0, 0, 0, 0, 1, 1, 1, 1, 1, 1, 0, 0, 1,\n",
       "       0, 0, 0, 1, 0, 0, 1, 1, 0, 0, 0, 0, 0, 0, 1, 1, 1, 1, 1, 0, 0, 0,\n",
       "       0, 1, 0, 1, 1, 0, 1, 1, 1, 1, 0, 1, 0, 1, 0, 0, 1, 1, 0, 0, 1, 1,\n",
       "       1, 0, 1, 0, 1, 0, 1, 0, 0, 1, 1, 1, 1, 1, 0, 1, 1, 1, 0, 0, 1, 0,\n",
       "       1, 1, 0, 0, 0, 1, 1, 1, 0, 1, 0, 0, 0, 0, 1, 1, 1, 0, 0, 1, 1, 1,\n",
       "       1, 1, 0, 1, 1, 1, 1, 0, 0, 0, 1, 1, 0, 0, 0, 0, 0, 0, 1, 1, 0, 1,\n",
       "       1, 1, 0, 1, 0, 1, 1, 1, 1, 0, 0, 1, 0, 0, 1, 0, 0, 1, 0, 1, 1, 1,\n",
       "       1, 1, 0, 0, 0, 0, 0, 0, 0, 0, 1, 1, 1, 0, 0, 1, 1, 1, 0, 0, 1, 1,\n",
       "       0, 0, 0, 1, 1, 0, 1, 1, 1, 1, 0, 0, 0, 1, 0, 1, 1, 0, 1, 0, 0, 0,\n",
       "       0, 1, 0, 0, 1, 1, 0, 1, 1, 1], dtype=int64)"
      ]
     },
     "execution_count": 20,
     "metadata": {},
     "output_type": "execute_result"
    }
   ],
   "source": [
    "dbscan.labels_\n"
   ]
  },
  {
   "cell_type": "code",
   "execution_count": 21,
   "metadata": {},
   "outputs": [
    {
     "data": {
      "text/plain": [
       "1000"
      ]
     },
     "execution_count": 21,
     "metadata": {},
     "output_type": "execute_result"
    }
   ],
   "source": [
    "len(dbscan.core_sample_indices_)"
   ]
  },
  {
   "cell_type": "code",
   "execution_count": 22,
   "metadata": {},
   "outputs": [
    {
     "data": {
      "text/plain": [
       "array([  0,   1,   2,   3,   4,   5,   6,   7,   8,   9,  10,  11,  12,\n",
       "        13,  14,  15,  16,  17,  18,  19,  20,  21,  22,  23,  24,  25,\n",
       "        26,  27,  28,  29,  30,  31,  32,  33,  34,  35,  36,  37,  38,\n",
       "        39,  40,  41,  42,  43,  44,  45,  46,  47,  48,  49,  50,  51,\n",
       "        52,  53,  54,  55,  56,  57,  58,  59,  60,  61,  62,  63,  64,\n",
       "        65,  66,  67,  68,  69,  70,  71,  72,  73,  74,  75,  76,  77,\n",
       "        78,  79,  80,  81,  82,  83,  84,  85,  86,  87,  88,  89,  90,\n",
       "        91,  92,  93,  94,  95,  96,  97,  98,  99, 100, 101, 102, 103,\n",
       "       104, 105, 106, 107, 108, 109, 110, 111, 112, 113, 114, 115, 116,\n",
       "       117, 118, 119, 120, 121, 122, 123, 124, 125, 126, 127, 128, 129,\n",
       "       130, 131, 132, 133, 134, 135, 136, 137, 138, 139, 140, 141, 142,\n",
       "       143, 144, 145, 146, 147, 148, 149, 150, 151, 152, 153, 154, 155,\n",
       "       156, 157, 158, 159, 160, 161, 162, 163, 164, 165, 166, 167, 168,\n",
       "       169, 170, 171, 172, 173, 174, 175, 176, 177, 178, 179, 180, 181,\n",
       "       182, 183, 184, 185, 186, 187, 188, 189, 190, 191, 192, 193, 194,\n",
       "       195, 196, 197, 198, 199, 200, 201, 202, 203, 204, 205, 206, 207,\n",
       "       208, 209, 210, 211, 212, 213, 214, 215, 216, 217, 218, 219, 220,\n",
       "       221, 222, 223, 224, 225, 226, 227, 228, 229, 230, 231, 232, 233,\n",
       "       234, 235, 236, 237, 238, 239, 240, 241, 242, 243, 244, 245, 246,\n",
       "       247, 248, 249, 250, 251, 252, 253, 254, 255, 256, 257, 258, 259,\n",
       "       260, 261, 262, 263, 264, 265, 266, 267, 268, 269, 270, 271, 272,\n",
       "       273, 274, 275, 276, 277, 278, 279, 280, 281, 282, 283, 284, 285,\n",
       "       286, 287, 288, 289, 290, 291, 292, 293, 294, 295, 296, 297, 298,\n",
       "       299, 300, 301, 302, 303, 304, 305, 306, 307, 308, 309, 310, 311,\n",
       "       312, 313, 314, 315, 316, 317, 318, 319, 320, 321, 322, 323, 324,\n",
       "       325, 326, 327, 328, 329, 330, 331, 332, 333, 334, 335, 336, 337,\n",
       "       338, 339, 340, 341, 342, 343, 344, 345, 346, 347, 348, 349, 350,\n",
       "       351, 352, 353, 354, 355, 356, 357, 358, 359, 360, 361, 362, 363,\n",
       "       364, 365, 366, 367, 368, 369, 370, 371, 372, 373, 374, 375, 376,\n",
       "       377, 378, 379, 380, 381, 382, 383, 384, 385, 386, 387, 388, 389,\n",
       "       390, 391, 392, 393, 394, 395, 396, 397, 398, 399, 400, 401, 402,\n",
       "       403, 404, 405, 406, 407, 408, 409, 410, 411, 412, 413, 414, 415,\n",
       "       416, 417, 418, 419, 420, 421, 422, 423, 424, 425, 426, 427, 428,\n",
       "       429, 430, 431, 432, 433, 434, 435, 436, 437, 438, 439, 440, 441,\n",
       "       442, 443, 444, 445, 446, 447, 448, 449, 450, 451, 452, 453, 454,\n",
       "       455, 456, 457, 458, 459, 460, 461, 462, 463, 464, 465, 466, 467,\n",
       "       468, 469, 470, 471, 472, 473, 474, 475, 476, 477, 478, 479, 480,\n",
       "       481, 482, 483, 484, 485, 486, 487, 488, 489, 490, 491, 492, 493,\n",
       "       494, 495, 496, 497, 498, 499, 500, 501, 502, 503, 504, 505, 506,\n",
       "       507, 508, 509, 510, 511, 512, 513, 514, 515, 516, 517, 518, 519,\n",
       "       520, 521, 522, 523, 524, 525, 526, 527, 528, 529, 530, 531, 532,\n",
       "       533, 534, 535, 536, 537, 538, 539, 540, 541, 542, 543, 544, 545,\n",
       "       546, 547, 548, 549, 550, 551, 552, 553, 554, 555, 556, 557, 558,\n",
       "       559, 560, 561, 562, 563, 564, 565, 566, 567, 568, 569, 570, 571,\n",
       "       572, 573, 574, 575, 576, 577, 578, 579, 580, 581, 582, 583, 584,\n",
       "       585, 586, 587, 588, 589, 590, 591, 592, 593, 594, 595, 596, 597,\n",
       "       598, 599, 600, 601, 602, 603, 604, 605, 606, 607, 608, 609, 610,\n",
       "       611, 612, 613, 614, 615, 616, 617, 618, 619, 620, 621, 622, 623,\n",
       "       624, 625, 626, 627, 628, 629, 630, 631, 632, 633, 634, 635, 636,\n",
       "       637, 638, 639, 640, 641, 642, 643, 644, 645, 646, 647, 648, 649,\n",
       "       650, 651, 652, 653, 654, 655, 656, 657, 658, 659, 660, 661, 662,\n",
       "       663, 664, 665, 666, 667, 668, 669, 670, 671, 672, 673, 674, 675,\n",
       "       676, 677, 678, 679, 680, 681, 682, 683, 684, 685, 686, 687, 688,\n",
       "       689, 690, 691, 692, 693, 694, 695, 696, 697, 698, 699, 700, 701,\n",
       "       702, 703, 704, 705, 706, 707, 708, 709, 710, 711, 712, 713, 714,\n",
       "       715, 716, 717, 718, 719, 720, 721, 722, 723, 724, 725, 726, 727,\n",
       "       728, 729, 730, 731, 732, 733, 734, 735, 736, 737, 738, 739, 740,\n",
       "       741, 742, 743, 744, 745, 746, 747, 748, 749, 750, 751, 752, 753,\n",
       "       754, 755, 756, 757, 758, 759, 760, 761, 762, 763, 764, 765, 766,\n",
       "       767, 768, 769, 770, 771, 772, 773, 774, 775, 776, 777, 778, 779,\n",
       "       780, 781, 782, 783, 784, 785, 786, 787, 788, 789, 790, 791, 792,\n",
       "       793, 794, 795, 796, 797, 798, 799, 800, 801, 802, 803, 804, 805,\n",
       "       806, 807, 808, 809, 810, 811, 812, 813, 814, 815, 816, 817, 818,\n",
       "       819, 820, 821, 822, 823, 824, 825, 826, 827, 828, 829, 830, 831,\n",
       "       832, 833, 834, 835, 836, 837, 838, 839, 840, 841, 842, 843, 844,\n",
       "       845, 846, 847, 848, 849, 850, 851, 852, 853, 854, 855, 856, 857,\n",
       "       858, 859, 860, 861, 862, 863, 864, 865, 866, 867, 868, 869, 870,\n",
       "       871, 872, 873, 874, 875, 876, 877, 878, 879, 880, 881, 882, 883,\n",
       "       884, 885, 886, 887, 888, 889, 890, 891, 892, 893, 894, 895, 896,\n",
       "       897, 898, 899, 900, 901, 902, 903, 904, 905, 906, 907, 908, 909,\n",
       "       910, 911, 912, 913, 914, 915, 916, 917, 918, 919, 920, 921, 922,\n",
       "       923, 924, 925, 926, 927, 928, 929, 930, 931, 932, 933, 934, 935,\n",
       "       936, 937, 938, 939, 940, 941, 942, 943, 944, 945, 946, 947, 948,\n",
       "       949, 950, 951, 952, 953, 954, 955, 956, 957, 958, 959, 960, 961,\n",
       "       962, 963, 964, 965, 966, 967, 968, 969, 970, 971, 972, 973, 974,\n",
       "       975, 976, 977, 978, 979, 980, 981, 982, 983, 984, 985, 986, 987,\n",
       "       988, 989, 990, 991, 992, 993, 994, 995, 996, 997, 998, 999],\n",
       "      dtype=int64)"
      ]
     },
     "execution_count": 22,
     "metadata": {},
     "output_type": "execute_result"
    }
   ],
   "source": [
    "dbscan.core_sample_indices_"
   ]
  },
  {
   "cell_type": "code",
   "execution_count": 23,
   "metadata": {},
   "outputs": [
    {
     "data": {
      "text/plain": [
       "array([[ 0.14431062,  0.05002452],\n",
       "       [ 0.44541033, -0.3086187 ],\n",
       "       [ 0.08640255,  0.02547888],\n",
       "       ...,\n",
       "       [ 0.49912854,  0.86902073],\n",
       "       [-0.96242729,  0.01082598],\n",
       "       [ 0.93775239,  0.39744958]])"
      ]
     },
     "execution_count": 23,
     "metadata": {},
     "output_type": "execute_result"
    }
   ],
   "source": [
    "dbscan.components_"
   ]
  },
  {
   "cell_type": "code",
   "execution_count": 24,
   "metadata": {},
   "outputs": [
    {
     "data": {
      "text/plain": [
       "KNeighborsClassifier(n_neighbors=50)"
      ]
     },
     "execution_count": 24,
     "metadata": {},
     "output_type": "execute_result"
    }
   ],
   "source": [
    "from sklearn.neighbors import KNeighborsClassifier\n",
    "knn = KNeighborsClassifier(n_neighbors=50)\n",
    "knn.fit(dbscan.components_, dbscan.labels_[dbscan.core_sample_indices_])"
   ]
  },
  {
   "cell_type": "code",
   "execution_count": 25,
   "metadata": {},
   "outputs": [
    {
     "data": {
      "application/javascript": [
       "\n",
       "        if (window._pyforest_update_imports_cell) { window._pyforest_update_imports_cell('import numpy as np'); }\n",
       "    "
      ],
      "text/plain": [
       "<IPython.core.display.Javascript object>"
      ]
     },
     "metadata": {},
     "output_type": "display_data"
    },
    {
     "data": {
      "text/plain": [
       "array([1, 0, 1, 0], dtype=int64)"
      ]
     },
     "execution_count": 25,
     "metadata": {},
     "output_type": "execute_result"
    }
   ],
   "source": [
    "X_new = np.array([[-0.5, 0], [0, 0.5], [1, -0.1], [2, 1]])\n",
    "knn.predict(X_new)"
   ]
  },
  {
   "cell_type": "code",
   "execution_count": 26,
   "metadata": {},
   "outputs": [
    {
     "data": {
      "text/plain": [
       "array([[0.2 , 0.8 ],\n",
       "       [1.  , 0.  ],\n",
       "       [0.14, 0.86],\n",
       "       [1.  , 0.  ]])"
      ]
     },
     "execution_count": 26,
     "metadata": {},
     "output_type": "execute_result"
    }
   ],
   "source": [
    "knn.predict_proba(X_new)"
   ]
  },
  {
   "cell_type": "code",
   "execution_count": 27,
   "metadata": {},
   "outputs": [
    {
     "data": {
      "text/plain": [
       "array([-1,  0,  1, -1], dtype=int64)"
      ]
     },
     "execution_count": 27,
     "metadata": {},
     "output_type": "execute_result"
    }
   ],
   "source": [
    "y_dist, y_pred_idx = knn.kneighbors(X_new, n_neighbors=1)\n",
    "y_pred = dbscan.labels_[dbscan.core_sample_indices_][y_pred_idx]\n",
    "y_pred[y_dist > 0.2] = -1\n",
    "y_pred.ravel()"
   ]
  },
  {
   "cell_type": "code",
   "execution_count": 28,
   "metadata": {},
   "outputs": [
    {
     "data": {
      "text/plain": [
       "GaussianMixture(n_components=3, n_init=10)"
      ]
     },
     "execution_count": 28,
     "metadata": {},
     "output_type": "execute_result"
    }
   ],
   "source": [
    "from sklearn.mixture import GaussianMixture\n",
    "gm = GaussianMixture(n_components=3, n_init=10)\n",
    "gm.fit(X)"
   ]
  },
  {
   "cell_type": "code",
   "execution_count": 29,
   "metadata": {},
   "outputs": [
    {
     "data": {
      "text/plain": [
       "array([0.19802434, 0.20594777, 0.59602789])"
      ]
     },
     "execution_count": 29,
     "metadata": {},
     "output_type": "execute_result"
    }
   ],
   "source": [
    "gm.weights_"
   ]
  },
  {
   "cell_type": "code",
   "execution_count": 30,
   "metadata": {},
   "outputs": [
    {
     "data": {
      "text/plain": [
       "array([[-0.76288163,  0.54819923],\n",
       "       [ 1.74173036, -0.06682605],\n",
       "       [ 0.48833163,  0.26062789]])"
      ]
     },
     "execution_count": 30,
     "metadata": {},
     "output_type": "execute_result"
    }
   ],
   "source": [
    "gm.means_"
   ]
  },
  {
   "cell_type": "code",
   "execution_count": 31,
   "metadata": {},
   "outputs": [
    {
     "data": {
      "text/plain": [
       "array([[[ 0.04808105,  0.05915443],\n",
       "        [ 0.05915443,  0.0877059 ]],\n",
       "\n",
       "       [[ 0.0559821 ,  0.06380261],\n",
       "        [ 0.06380261,  0.08872963]],\n",
       "\n",
       "       [[ 0.17215984, -0.10674105],\n",
       "        [-0.10674105,  0.29291815]]])"
      ]
     },
     "execution_count": 31,
     "metadata": {},
     "output_type": "execute_result"
    }
   ],
   "source": [
    "gm.covariances_"
   ]
  },
  {
   "cell_type": "code",
   "execution_count": 32,
   "metadata": {},
   "outputs": [
    {
     "data": {
      "text/plain": [
       "True"
      ]
     },
     "execution_count": 32,
     "metadata": {},
     "output_type": "execute_result"
    }
   ],
   "source": [
    "gm.converged_"
   ]
  },
  {
   "cell_type": "code",
   "execution_count": 33,
   "metadata": {},
   "outputs": [
    {
     "data": {
      "text/plain": [
       "16"
      ]
     },
     "execution_count": 33,
     "metadata": {},
     "output_type": "execute_result"
    }
   ],
   "source": [
    "gm.n_iter_"
   ]
  },
  {
   "cell_type": "code",
   "execution_count": 34,
   "metadata": {},
   "outputs": [
    {
     "data": {
      "text/plain": [
       "array([2, 2, 2, 0, 1, 2, 1, 2, 0, 2, 2, 1, 2, 2, 2, 2, 2, 1, 1, 2, 1, 0,\n",
       "       2, 0, 2, 1, 2, 2, 2, 0, 0, 1, 2, 1, 2, 2, 2, 2, 0, 2, 2, 1, 2, 0,\n",
       "       2, 2, 2, 0, 2, 2, 2, 0, 2, 2, 2, 2, 2, 2, 1, 2, 2, 1, 2, 2, 2, 2,\n",
       "       2, 2, 2, 2, 2, 2, 1, 2, 2, 0, 2, 0, 2, 1, 1, 0, 2, 0, 1, 1, 0, 0,\n",
       "       0, 2, 0, 2, 1, 2, 1, 2, 2, 2, 2, 2, 2, 0, 2, 0, 0, 2, 0, 2, 0, 2,\n",
       "       0, 1, 1, 2, 1, 2, 0, 2, 2, 1, 1, 2, 1, 0, 0, 2, 0, 2, 2, 2, 2, 2,\n",
       "       0, 2, 2, 0, 1, 2, 2, 0, 2, 2, 0, 1, 2, 2, 1, 2, 2, 1, 2, 1, 2, 1,\n",
       "       2, 2, 0, 2, 0, 2, 0, 1, 1, 1, 2, 2, 2, 1, 2, 0, 1, 1, 2, 2, 1, 2,\n",
       "       0, 1, 2, 0, 0, 0, 2, 1, 2, 2, 1, 2, 2, 0, 1, 2, 2, 2, 0, 2, 2, 1,\n",
       "       2, 0, 0, 2, 1, 2, 2, 0, 2, 2, 1, 2, 2, 2, 0, 2, 1, 2, 2, 2, 2, 2,\n",
       "       1, 1, 1, 0, 1, 0, 2, 2, 2, 2, 1, 2, 2, 0, 2, 0, 2, 1, 2, 2, 2, 2,\n",
       "       1, 2, 0, 0, 2, 2, 2, 1, 2, 0, 2, 2, 2, 2, 2, 2, 2, 2, 2, 2, 2, 2,\n",
       "       1, 0, 2, 2, 2, 0, 1, 2, 2, 2, 2, 2, 2, 2, 2, 0, 2, 1, 2, 2, 1, 0,\n",
       "       2, 2, 2, 2, 1, 1, 2, 0, 1, 1, 0, 2, 2, 2, 2, 2, 0, 2, 2, 2, 2, 2,\n",
       "       2, 1, 1, 2, 1, 1, 2, 1, 1, 2, 2, 2, 2, 2, 0, 2, 2, 2, 2, 2, 0, 2,\n",
       "       0, 2, 2, 1, 2, 2, 0, 0, 2, 1, 1, 2, 0, 2, 2, 1, 2, 2, 2, 2, 2, 2,\n",
       "       2, 2, 2, 2, 2, 1, 0, 0, 0, 2, 2, 1, 1, 2, 2, 2, 1, 2, 1, 0, 2, 2,\n",
       "       2, 2, 2, 2, 2, 2, 0, 2, 0, 1, 2, 2, 2, 0, 0, 0, 1, 1, 2, 1, 2, 2,\n",
       "       2, 2, 1, 2, 1, 2, 2, 2, 2, 2, 2, 1, 2, 2, 2, 0, 1, 1, 2, 0, 0, 1,\n",
       "       0, 2, 0, 1, 1, 2, 0, 1, 2, 1, 2, 2, 2, 2, 2, 0, 0, 2, 2, 1, 0, 1,\n",
       "       2, 0, 0, 1, 2, 0, 2, 2, 2, 2, 2, 1, 2, 2, 1, 2, 0, 2, 0, 2, 2, 2,\n",
       "       2, 1, 2, 2, 2, 2, 2, 0, 0, 2, 0, 0, 1, 2, 2, 2, 0, 2, 0, 2, 2, 1,\n",
       "       2, 1, 1, 2, 2, 0, 1, 2, 1, 2, 1, 2, 2, 2, 0, 2, 0, 0, 0, 2, 1, 2,\n",
       "       2, 2, 2, 0, 2, 2, 2, 2, 1, 2, 2, 0, 1, 0, 2, 1, 0, 2, 2, 1, 1, 1,\n",
       "       2, 2, 2, 0, 2, 2, 2, 0, 2, 2, 2, 2, 2, 1, 2, 0, 1, 2, 1, 2, 2, 2,\n",
       "       2, 1, 2, 2, 2, 2, 2, 2, 1, 2, 2, 2, 2, 2, 1, 0, 2, 2, 2, 2, 0, 1,\n",
       "       2, 2, 2, 2, 0, 1, 2, 2, 2, 2, 1, 2, 2, 2, 2, 2, 0, 2, 2, 1, 0, 2,\n",
       "       2, 1, 2, 2, 1, 2, 0, 1, 1, 2, 2, 2, 1, 2, 0, 0, 2, 2, 2, 2, 1, 1,\n",
       "       2, 0, 2, 2, 0, 2, 2, 0, 2, 1, 0, 1, 0, 0, 2, 0, 2, 1, 0, 2, 2, 2,\n",
       "       1, 0, 2, 2, 2, 0, 2, 2, 0, 2, 2, 2, 2, 2, 2, 0, 0, 2, 1, 2, 0, 2,\n",
       "       2, 2, 0, 1, 1, 2, 2, 1, 0, 2, 0, 0, 2, 2, 2, 2, 1, 1, 1, 2, 0, 1,\n",
       "       2, 2, 1, 2, 2, 2, 1, 0, 0, 1, 2, 2, 1, 0, 1, 2, 2, 0, 2, 0, 1, 1,\n",
       "       1, 1, 2, 2, 1, 0, 0, 2, 1, 2, 1, 2, 2, 2, 2, 0, 2, 0, 2, 2, 2, 2,\n",
       "       2, 1, 2, 2, 1, 2, 2, 0, 2, 1, 1, 0, 1, 2, 1, 1, 0, 0, 2, 0, 0, 2,\n",
       "       2, 2, 2, 2, 2, 2, 2, 2, 2, 2, 2, 1, 2, 2, 1, 2, 1, 1, 0, 2, 2, 1,\n",
       "       0, 1, 2, 2, 1, 2, 2, 2, 0, 2, 0, 0, 2, 2, 2, 2, 2, 2, 1, 2, 2, 2,\n",
       "       0, 2, 2, 1, 2, 2, 2, 2, 2, 2, 2, 1, 2, 2, 2, 0, 0, 0, 2, 1, 2, 0,\n",
       "       1, 1, 2, 0, 1, 2, 0, 0, 1, 1, 1, 1, 1, 1, 0, 2, 2, 0, 2, 2, 2, 1,\n",
       "       2, 2, 1, 2, 2, 1, 0, 0, 2, 2, 2, 0, 2, 2, 2, 1, 2, 2, 2, 1, 0, 2,\n",
       "       0, 1, 0, 1, 2, 2, 0, 2, 2, 2, 2, 0, 2, 0, 1, 2, 2, 2, 2, 1, 0, 2,\n",
       "       2, 2, 2, 2, 2, 0, 2, 2, 1, 2, 2, 2, 2, 1, 0, 0, 0, 2, 1, 2, 0, 0,\n",
       "       2, 2, 1, 0, 2, 0, 0, 2, 2, 2, 2, 2, 1, 1, 2, 1, 2, 2, 0, 0, 2, 2,\n",
       "       2, 0, 2, 0, 2, 2, 2, 2, 2, 2, 1, 2, 1, 2, 2, 2, 1, 0, 1, 0, 2, 2,\n",
       "       2, 2, 1, 2, 1, 1, 1, 2, 2, 1, 0, 2, 2, 2, 2, 0, 2, 2, 2, 2, 0, 0,\n",
       "       2, 2, 2, 0, 0, 1, 2, 0, 2, 2, 1, 1, 2, 0, 2, 0, 2, 2, 2, 2, 1, 1,\n",
       "       2, 2, 2, 1, 2, 2, 2, 2, 0, 2], dtype=int64)"
      ]
     },
     "execution_count": 34,
     "metadata": {},
     "output_type": "execute_result"
    }
   ],
   "source": [
    "gm.predict(X)"
   ]
  },
  {
   "cell_type": "code",
   "execution_count": 35,
   "metadata": {},
   "outputs": [
    {
     "data": {
      "text/plain": [
       "array([[1.21914912e-041, 7.64019299e-061, 1.00000000e+000],\n",
       "       [1.80445966e-086, 3.01694516e-027, 1.00000000e+000],\n",
       "       [6.51596789e-039, 1.14357657e-063, 1.00000000e+000],\n",
       "       ...,\n",
       "       [3.05860473e-029, 5.21591135e-081, 1.00000000e+000],\n",
       "       [9.98712961e-001, 4.53894568e-163, 1.28703893e-003],\n",
       "       [3.63106400e-086, 2.66849474e-028, 1.00000000e+000]])"
      ]
     },
     "execution_count": 35,
     "metadata": {},
     "output_type": "execute_result"
    }
   ],
   "source": [
    "gm.predict_proba(X)"
   ]
  },
  {
   "cell_type": "code",
   "execution_count": 36,
   "metadata": {},
   "outputs": [
    {
     "data": {
      "text/plain": [
       "array([[ 2.08089209,  0.29871451],\n",
       "       [ 2.25185544,  0.60808822],\n",
       "       [ 0.61183281,  0.31248261],\n",
       "       [-0.06866544,  0.52345964],\n",
       "       [ 0.90388337,  0.26758377],\n",
       "       [ 0.10596894,  0.55933612]])"
      ]
     },
     "execution_count": 36,
     "metadata": {},
     "output_type": "execute_result"
    }
   ],
   "source": [
    "X_new, y_new = gm.sample(6)\n",
    "X_new"
   ]
  },
  {
   "cell_type": "code",
   "execution_count": 37,
   "metadata": {},
   "outputs": [
    {
     "data": {
      "text/plain": [
       "array([1, 1, 2, 2, 2, 2])"
      ]
     },
     "execution_count": 37,
     "metadata": {},
     "output_type": "execute_result"
    }
   ],
   "source": [
    "y_new"
   ]
  },
  {
   "cell_type": "code",
   "execution_count": 38,
   "metadata": {},
   "outputs": [
    {
     "data": {
      "text/plain": [
       "array([-1.47367472e+00, -1.52199557e+00, -1.72020132e+00, -4.98946887e-01,\n",
       "       -4.77908137e-03, -1.55718734e+00, -5.49505162e-01, -1.83502945e+00,\n",
       "       -6.53552530e-01, -1.91595382e+00, -1.51917182e+00, -3.30380834e+00,\n",
       "       -1.47447172e+00, -1.47609348e+00, -1.53943170e+00, -2.25317911e+00,\n",
       "       -1.64931390e+00, -3.57825618e-01, -6.25037696e-01, -1.89482567e+00,\n",
       "       -3.43403697e-02, -1.59111004e-02, -1.67863906e+00, -2.69022481e-01,\n",
       "       -1.35693590e+00, -4.23050310e-01, -1.57768038e+00, -1.62188584e+00,\n",
       "       -1.97255351e+00, -4.15374562e-01, -8.23303511e-01, -1.25712458e+00,\n",
       "       -1.63964188e+00, -1.49867824e+00, -1.80313566e+00, -1.46440034e+00,\n",
       "       -1.66750824e+00, -1.81117404e+00, -1.08863685e+00, -1.30312234e+00,\n",
       "       -1.58122764e+00, -2.71968384e-01, -1.48983633e+00, -8.26330787e-02,\n",
       "       -1.87560377e+00, -1.53019014e+00, -1.66036400e+00, -1.82277990e-01,\n",
       "       -1.48118740e+00, -1.87225011e+00, -2.19028085e+00, -2.91755320e-01,\n",
       "       -1.49970903e+00, -1.83485665e+00, -1.79479356e+00, -1.43808372e+00,\n",
       "       -1.59961200e+00, -1.78191787e+00, -7.91103739e-01, -1.85895162e+00,\n",
       "       -1.60802243e+00, -1.86584863e+00, -1.41603446e+00, -2.05913519e+00,\n",
       "       -2.23294602e+00, -1.71615288e+00, -1.33014435e+00, -1.68672283e+00,\n",
       "       -1.52352251e+00, -1.50869449e+00, -1.51825576e+00, -2.08106905e+00,\n",
       "       -3.69582363e-01, -1.50724010e+00, -2.17070388e+00, -8.54441609e-01,\n",
       "       -1.52287886e+00, -4.27807257e-01, -1.33724974e+00,  9.29916302e-02,\n",
       "       -5.55618778e-02,  1.40006958e-01, -1.53851517e+00, -3.19192034e-01,\n",
       "       -5.19051855e-01, -1.51251555e-01, -6.74420101e-01,  7.19861553e-02,\n",
       "        1.52775865e-01, -1.53640535e+00,  1.59740720e-01, -1.06017584e+00,\n",
       "       -8.31675921e-01, -1.53803175e+00, -1.00365752e+00, -2.19397872e+00,\n",
       "       -1.88300288e+00, -1.24998658e+00, -2.16242568e+00, -1.51768641e+00,\n",
       "       -1.92411728e+00, -7.69404380e-01, -1.47890749e+00,  9.32758623e-03,\n",
       "        1.75490161e-02, -1.93088930e+00, -5.65358915e-02, -1.75303165e+00,\n",
       "       -1.26607352e+00, -1.93891586e+00, -1.06592294e+00, -6.91625659e-01,\n",
       "       -4.79607750e+00, -1.50808552e+00, -2.87587386e-01, -1.57754868e+00,\n",
       "       -5.79756684e-01, -1.45090877e+00, -1.57731703e+00, -1.56661697e+00,\n",
       "       -9.66086979e-02, -2.20556404e+00, -9.75176712e-01, -1.08865823e-01,\n",
       "       -3.13419587e-01, -1.52923615e+00,  1.17097775e-01, -1.51506312e+00,\n",
       "       -1.62084778e+00, -1.39973706e+00, -1.52899237e+00, -1.87897672e+00,\n",
       "       -1.32330378e-01, -2.20695201e+00, -1.55794786e+00, -4.90517202e-01,\n",
       "       -1.12907563e+00, -1.60063313e+00, -1.62624964e+00, -3.21257646e-01,\n",
       "       -2.21877686e+00, -1.57742802e+00, -1.34316230e-01, -1.86467001e+00,\n",
       "       -2.00362325e+00, -1.88698368e+00, -1.01293963e+00, -2.17163974e+00,\n",
       "       -1.35493528e+00, -2.18805907e+00, -1.65968433e+00,  7.73199225e-02,\n",
       "       -1.43310752e+00, -5.71391781e-01, -1.79417503e+00, -1.55402606e+00,\n",
       "       -7.36885393e-02, -2.14316676e+00, -5.14717115e-01, -2.23156172e+00,\n",
       "        1.00972884e-01, -2.86460491e-01, -1.43119544e+00, -1.40930673e+00,\n",
       "       -1.76709980e+00, -1.63039002e+00, -1.88982290e+00,  7.89076036e-02,\n",
       "       -2.26487368e+00, -2.78313948e-01, -6.18711889e-01, -2.63911268e-01,\n",
       "       -1.60797411e+00, -1.80426249e+00, -4.26147608e-02, -1.37809964e+00,\n",
       "       -5.09004766e-01, -1.62904526e-01, -1.30853703e+00, -1.17065209e+00,\n",
       "        6.19845967e-02, -2.12611792e+00, -1.65841430e+00,  6.80705688e-02,\n",
       "       -1.80479883e+00, -1.86125521e+00, -5.65335135e-01, -1.68060285e+00,\n",
       "       -1.76904972e+00, -7.39900487e-01, -7.93667639e-01, -1.37327226e+00,\n",
       "       -2.09573602e+00, -1.89967978e+00, -2.49375422e-01, -1.75135585e+00,\n",
       "       -1.58242078e+00, -1.11988153e+00, -2.28463749e+00, -9.85726255e-01,\n",
       "       -9.82748609e-02, -1.60681507e+00, -1.43509697e-03, -2.21176470e+00,\n",
       "       -1.59465540e+00, -1.76073464e-01, -1.72059128e+00, -1.51026884e+00,\n",
       "       -3.09944089e-02, -1.38503020e+00, -2.21734990e+00, -1.62788137e+00,\n",
       "       -5.67775544e-01, -1.28594925e+00, -2.50235935e-01, -1.49804630e+00,\n",
       "       -1.84975933e+00, -1.70626886e+00, -1.82006466e+00, -1.68903301e+00,\n",
       "       -4.98274821e-01, -8.82773292e-01, -1.77935221e-01, -1.78765660e+00,\n",
       "       -2.75116079e-01, -5.28140320e-01, -1.67506245e+00, -1.65173697e+00,\n",
       "       -1.58112239e+00, -1.78410508e+00, -8.88150997e-02, -1.60291276e+00,\n",
       "       -1.92973887e+00, -1.28683534e+00, -1.60633175e+00,  4.35455943e-02,\n",
       "       -2.01497088e+00, -2.81713095e-01, -1.34295333e+00, -1.42012767e+00,\n",
       "       -1.73328914e+00, -1.32423295e+00, -6.41991102e-01, -1.58296860e+00,\n",
       "       -3.47467691e+00, -1.47077973e+00, -1.67004111e+00, -1.63661424e+00,\n",
       "       -1.99678726e+00, -1.39025658e+00, -1.69634095e+00, -1.02861536e+00,\n",
       "       -1.62897560e+00, -1.45922621e+00, -1.85639145e+00, -1.73961758e+00,\n",
       "       -1.26857018e+00, -1.46648531e+00, -1.58071141e+00, -1.50097430e+00,\n",
       "       -1.68138722e+00, -2.00890398e+00, -1.74268211e+00, -1.51622298e+00,\n",
       "       -1.16886066e+00, -1.30461115e+00, -1.80977254e+00, -1.31030986e+00,\n",
       "       -1.67487952e+00, -1.82868571e+00, -1.59073777e-01, -1.80743278e+00,\n",
       "       -2.01753998e+00, -1.42419258e+00, -1.54584673e+00, -1.71847213e+00,\n",
       "       -1.86807973e+00, -1.69011901e+00, -1.48840590e+00, -3.53139859e-01,\n",
       "       -1.76353795e+00, -9.91164698e-01, -1.68658816e+00, -1.64898630e+00,\n",
       "        5.37409390e-02, -3.73045403e-01, -1.56983386e+00, -1.42076352e+00,\n",
       "       -2.20284075e+00, -1.57298931e+00, -5.12087458e-01, -5.11543529e-01,\n",
       "       -2.22564860e+00, -5.05765336e-01, -2.54900642e+00, -1.06515863e+00,\n",
       "       -3.02377883e+00, -1.40187758e+00, -1.81810622e+00, -1.45415183e+00,\n",
       "       -1.78814834e+00, -2.03038636e+00, -4.69842307e-03, -1.34819855e+00,\n",
       "       -2.11571901e+00, -1.40929383e+00, -1.69524587e+00, -1.70713692e+00,\n",
       "       -1.54685226e+00, -6.59981132e-01, -5.28281342e-01, -2.28650335e+00,\n",
       "       -1.91497252e-01, -3.61475479e-01, -1.32157388e+00, -2.99715347e-01,\n",
       "       -4.61252449e-01, -1.58067453e+00, -1.90626431e+00, -1.71437412e+00,\n",
       "       -1.78866008e+00, -1.51877538e+00, -8.64559981e-02, -1.87805028e+00,\n",
       "       -1.67095788e+00, -1.40404277e+00, -1.81906847e+00, -1.68686799e+00,\n",
       "       -1.32145691e+00, -1.46408161e+00, -5.68743129e-01, -1.66343633e+00,\n",
       "       -2.15752067e+00,  1.33100614e-03, -1.66502929e+00, -1.76662683e+00,\n",
       "       -1.49229380e+00, -7.76063755e-02, -1.48391089e+00, -5.68663029e-01,\n",
       "       -1.16296280e+00, -1.55049324e+00, -5.51417408e-01, -1.56326423e+00,\n",
       "       -1.98393132e+00, -9.94035417e-01, -2.21832256e+00, -1.76026640e+00,\n",
       "       -1.46567633e+00, -2.26182857e+00, -1.64210984e+00, -1.57619559e+00,\n",
       "       -2.20624443e+00, -1.56009581e+00, -2.00698983e+00, -1.67732737e+00,\n",
       "       -1.68343952e+00, -5.97654727e-01, -3.24116775e-01,  1.03523218e-01,\n",
       "       -5.64047186e-01, -1.84302146e+00, -1.60971421e+00, -1.51825116e-01,\n",
       "       -7.48195745e-01, -1.27846818e+00, -1.60635645e+00, -1.65337563e+00,\n",
       "       -6.78688725e-01, -1.60023782e+00, -1.96301865e-01, -2.12573388e-01,\n",
       "       -1.50494092e+00, -1.35954527e+00, -1.73165037e+00, -1.44408950e+00,\n",
       "       -2.07864413e+00, -2.21213475e+00, -1.88406698e+00, -2.20454326e+00,\n",
       "       -1.95688712e+00, -1.91907587e+00, -2.89747704e-01, -1.01386683e+00,\n",
       "       -1.72219709e+00, -1.58135305e+00, -1.45018457e+00, -1.28007320e-01,\n",
       "       -1.38630805e+00,  6.24478083e-03, -7.80305239e-02, -1.06901398e+00,\n",
       "       -2.13225000e+00, -2.13153079e-01, -1.61426217e+00, -2.16838972e+00,\n",
       "       -1.66434906e+00, -1.71361960e+00, -1.86693502e+00, -2.12506137e+00,\n",
       "       -3.72722085e-01, -1.54967653e+00, -1.77514099e+00, -1.42453445e+00,\n",
       "       -1.47530646e+00, -1.63411158e+00, -1.84669790e+00, -5.17572930e+00,\n",
       "       -1.33604170e+00, -1.57800894e+00, -1.32512712e+00, -2.59310283e-01,\n",
       "       -1.93948954e+00, -6.10545522e-01, -2.21733871e+00, -1.22590700e+00,\n",
       "        5.86497594e-02, -2.12686124e-02, -1.65017897e+00, -1.46083182e+00,\n",
       "       -1.10589673e-01, -4.54082511e-01, -8.53481281e-01, -2.16131238e+00,\n",
       "       -2.18443300e-01, -5.58333872e-01, -1.63480633e+00, -5.40019394e-01,\n",
       "       -1.57205291e+00, -1.78756138e+00, -2.20285224e+00, -1.94222754e+00,\n",
       "       -1.32993197e+00, -9.28221694e-01, -4.32986173e-01, -2.26861858e+00,\n",
       "       -1.57801372e+00, -1.06462879e+00, -6.68974013e-01, -7.96501942e-01,\n",
       "       -1.90540497e+00, -8.96749316e-01, -1.13964667e+00, -9.62050888e-01,\n",
       "       -1.51101497e+00, -1.45804713e-01, -1.79989264e+00, -1.54130847e+00,\n",
       "       -1.69968253e+00, -1.96360063e+00, -1.76944402e+00, -1.84910704e+00,\n",
       "       -1.88321258e+00, -1.74084310e+00, -8.91749772e-01, -1.95554218e+00,\n",
       "       -2.12123106e-01, -1.81110274e+00, -6.20694852e-01, -1.57793830e+00,\n",
       "       -1.84045993e+00, -1.45748730e+00, -1.76793290e+00, -1.61728526e+00,\n",
       "       -1.88316059e+00, -1.80141926e+00, -1.58300308e+00, -1.52395565e+00,\n",
       "       -2.20866989e+00, -9.52108922e-01, -5.21217811e-01, -1.42023058e+00,\n",
       "       -6.99856631e-01, -8.23078153e-01, -5.70186133e-01, -1.58762872e+00,\n",
       "       -1.74981059e+00, -1.35940721e+00, -7.87668343e-01, -1.88440576e+00,\n",
       "        1.12094292e-01, -2.03640768e+00, -1.85307770e+00, -1.93916458e-01,\n",
       "       -1.49489354e+00, -1.04717149e+00, -2.17361871e-01, -1.48709396e+00,\n",
       "       -1.37137049e+00, -6.01262540e-01, -1.29765999e-01, -1.63154347e+00,\n",
       "       -1.96625191e+00, -1.48639704e+00, -8.21061842e-01, -1.80644342e+00,\n",
       "       -1.63022552e+00, -1.93565195e+00, -5.37586579e-01, -1.52951743e+00,\n",
       "       -5.91329572e-01, -1.78295872e+00, -5.52810628e-01, -1.99661712e+00,\n",
       "       -8.78446917e-01, -1.64717273e+00, -1.67505993e+00, -1.26392474e+00,\n",
       "       -2.19060285e+00, -1.17303371e-01, -1.50423628e+00, -1.83503327e+00,\n",
       "       -1.60112733e+00, -1.51820386e+00, -7.57562469e-01, -1.89207698e+00,\n",
       "       -1.54173102e+00, -1.01649519e+00, -2.40548654e+00, -6.43334918e-01,\n",
       "       -1.37433482e+00, -2.12227502e+00, -5.99756955e-01, -1.66755686e+00,\n",
       "       -1.95468992e+00, -3.01874016e-01, -8.39805959e-01, -1.34776480e+00,\n",
       "       -1.63117618e+00, -1.45451952e+00, -1.44897203e+00, -2.22661165e-01,\n",
       "       -2.19386225e+00, -1.29241145e+00, -1.62650525e+00, -8.84169130e-01,\n",
       "       -1.64817015e+00, -1.84436224e+00, -1.61102905e+00, -1.51668346e+00,\n",
       "       -1.70618087e+00, -9.60794434e-01, -1.52353075e+00, -4.03492467e-01,\n",
       "       -1.17539951e+00, -1.58986828e+00, -3.06808357e-01, -2.21109386e+00,\n",
       "       -1.58242199e+00, -1.47633182e+00, -1.69525909e+00, -8.85931820e-01,\n",
       "       -2.01710914e+00, -2.25313656e+00, -1.83187867e+00, -1.46731003e+00,\n",
       "       -2.27068358e+00, -1.87024134e+00, -3.97333509e-01, -2.05064771e+00,\n",
       "       -2.18560866e+00, -1.34843494e+00, -1.75027073e+00, -2.05562004e+00,\n",
       "       -3.56647157e-01,  1.35350514e-01, -1.47233514e+00, -1.57604250e+00,\n",
       "       -1.61281594e+00, -1.65322335e+00, -9.95380766e-01, -3.41665498e-01,\n",
       "       -1.55369815e+00, -1.22411435e+00, -1.23021289e+00, -1.67342021e+00,\n",
       "       -1.86375454e+00, -1.66310006e+00, -1.52224520e+00, -1.43417501e+00,\n",
       "       -1.36939449e+00, -1.69783924e+00, -1.04142506e+00, -1.43585977e+00,\n",
       "       -1.71867842e+00, -1.29371420e+00, -1.97625505e+00, -1.55157470e+00,\n",
       "       -6.91863538e-01, -1.77886808e+00, -1.79125847e+00, -1.72287035e+00,\n",
       "       -1.30120360e+00, -1.58498721e+00, -2.22554309e+00, -8.38587527e-01,\n",
       "       -1.62170610e+00, -1.44900769e+00, -1.23882293e-01, -1.59491371e+00,\n",
       "       -1.65381317e-01, -1.50481719e+00, -3.87979645e-01, -1.40247177e+00,\n",
       "       -1.70151176e+00, -1.32576530e+00, -5.78205977e-01, -1.85021807e+00,\n",
       "       -1.39574805e+00, -1.27631084e+00, -1.70648941e+00, -1.63062546e+00,\n",
       "       -1.56593923e+00, -1.48830175e+00, -1.29443917e+00, -1.56740271e+00,\n",
       "       -1.35383760e+00, -7.49505126e-01, -1.60141874e+00, -1.99572915e+00,\n",
       "       -1.35680236e-01, -1.65391249e+00, -1.66733213e+00, -1.71231305e+00,\n",
       "       -2.05606694e+00, -1.11717932e+00, -1.79707098e-01, -1.63338759e+00,\n",
       "       -1.42483745e-01, -4.73734784e-01, -1.54103751e+00, -4.80132373e-01,\n",
       "       -1.50710728e+00, -1.63335398e+00, -1.31144221e+00, -2.03850325e+00,\n",
       "       -2.13617031e+00, -1.68334271e+00, -1.52915256e-01, -4.77461665e-01,\n",
       "       -1.45098556e+00, -2.04536802e+00, -1.59546923e+00, -1.18641211e+00,\n",
       "       -1.65683695e+00, -1.71942721e+00, -3.67350009e-01, -1.60990491e+00,\n",
       "       -1.60456360e+00, -1.94639173e+00, -1.95230539e+00, -1.33212180e+00,\n",
       "       -1.53140440e+00, -2.49830268e-01, -1.27700590e+00, -1.84574342e+00,\n",
       "       -1.20327609e+00, -1.65959588e+00, -9.09704386e-01, -1.88927074e+00,\n",
       "       -1.75849788e+00, -1.63950941e+00, -3.58024453e+00, -1.36521629e-01,\n",
       "       -1.10499842e-02, -1.29233725e+00, -1.51129709e+00, -2.65410155e+00,\n",
       "        8.20338770e-02, -1.67282612e+00, -1.38750119e-01, -5.91436951e-01,\n",
       "       -1.56581972e+00, -1.79042177e+00, -1.81908074e+00, -1.40535661e+00,\n",
       "       -1.01556535e-02, -3.93096827e+00, -1.38905328e-01, -2.09299843e+00,\n",
       "       -1.39902406e+00, -4.51330840e-01, -2.01985072e+00, -1.49616435e+00,\n",
       "       -5.94507912e-01, -1.34239179e+00, -1.72469823e+00, -1.81963482e+00,\n",
       "       -1.47630207e+00, -3.60505602e-01, -2.84503917e-01, -1.79923920e+00,\n",
       "       -1.58402302e+00, -1.76714405e+00, -1.27815437e+00, -1.02465948e+00,\n",
       "       -2.66181236e-01, -1.72889549e+00, -1.71661709e+00, -3.09608805e-02,\n",
       "       -1.54496382e+00, -2.08858164e+00, -4.46076147e-01, -1.30457311e+00,\n",
       "       -9.41773611e-01, -5.16811968e-01, -1.63859384e+00, -1.73760218e+00,\n",
       "       -3.52846366e-01, -1.01737336e+00, -3.35580956e-01, -1.51773997e+00,\n",
       "       -6.02115255e+00, -1.63885385e+00, -2.53808795e-01, -1.50555179e+00,\n",
       "       -2.19704836e+00, -1.75951982e+00, -1.91307831e+00, -7.00473066e-01,\n",
       "       -1.94729396e+00, -4.65858523e-01, -1.61821889e+00, -1.98893580e+00,\n",
       "       -1.75203783e+00, -1.40194310e+00, -1.35673456e+00, -6.87121628e-01,\n",
       "       -1.55206469e+00, -1.54151499e+00, -8.19084720e-01, -1.54796073e+00,\n",
       "       -1.71487504e+00, -7.43295973e-01, -1.41453945e+00, -9.35213954e-01,\n",
       "       -1.00686979e+00, -2.19995965e+00, -1.23250299e+00, -1.75388290e+00,\n",
       "       -1.49473305e+00, -3.71428726e-01, -1.54009023e+00, -6.90902351e-02,\n",
       "       -1.60065334e+00, -2.09104193e-01, -1.70077443e+00, -1.65251991e+00,\n",
       "       -1.46616690e+00, -1.50525665e+00, -1.67987749e+00, -1.60314420e+00,\n",
       "       -1.62875214e+00, -1.73657680e+00, -1.77997311e+00, -1.61451521e+00,\n",
       "       -1.67506503e+00, -1.77840297e+00, -1.76118893e+00, -3.70013734e-01,\n",
       "       -1.63974264e+00, -2.06627214e+00, -5.68991047e-01, -1.36008278e+00,\n",
       "       -4.75707284e-01, -7.27824568e-01, -2.55313449e-01, -1.25495799e+00,\n",
       "       -1.78359989e+00, -5.18843615e-01, -1.57560310e+00, -1.31187024e+00,\n",
       "       -1.34568592e+00, -1.36445564e+00, -9.19352431e-01, -1.74530019e+00,\n",
       "       -1.94348287e+00, -1.35996412e+00, -1.27850520e+00, -2.08797435e+00,\n",
       "       -3.83551648e-01, -8.94183872e-01, -1.83837090e+00, -1.44089016e+00,\n",
       "       -1.66027555e+00, -1.48729703e+00, -2.38230973e+00, -1.60707073e+00,\n",
       "       -9.83237562e-01, -2.28253272e+00, -1.44518934e+00, -1.75348754e+00,\n",
       "        4.73999246e-02, -1.52320664e+00, -1.87966351e+00, -9.07127447e-01,\n",
       "       -1.61707067e+00, -2.12448561e+00, -1.48564417e+00, -1.71713259e+00,\n",
       "       -2.14247436e+00, -1.57156818e+00, -1.86915090e+00, -1.01460692e+00,\n",
       "       -1.49966325e+00, -1.74194611e+00, -1.82500837e+00, -2.41385450e+00,\n",
       "       -1.54713581e+00, -1.77944723e-01, -1.97679576e+00, -4.07440978e-02,\n",
       "       -1.43003905e+00, -1.68981867e-01,  7.71120638e-02, -1.17602102e+00,\n",
       "       -2.22145959e+00, -6.38022940e-01, -2.01570229e+00, -1.65223036e+00,\n",
       "       -2.78508471e-01, -2.95952977e-01, -1.02484238e+00,  3.59593090e-02,\n",
       "       -1.60869627e+00, -7.56567954e-01, -2.56447345e+00, -6.23351870e-01,\n",
       "       -2.77290265e+00, -1.70317314e+00, -1.63765077e+00, -1.61633075e+00,\n",
       "       -1.59105842e+00, -1.61642765e+00, -1.76962158e+00, -6.52483443e-01,\n",
       "       -1.43445008e+00, -1.48430366e+00, -6.66899695e-01, -1.61026845e+00,\n",
       "       -1.42631676e+00, -1.50621596e+00,  8.82502128e-02, -4.98910320e-01,\n",
       "       -1.26231212e+00, -1.60475688e+00, -1.88530107e+00,  5.16746976e-02,\n",
       "       -1.71937235e+00, -1.77902792e+00, -1.57670360e+00,  2.44586222e-02,\n",
       "       -2.27513795e+00, -1.54728994e+00, -1.48359753e+00, -1.12254257e+00,\n",
       "       -1.35860665e+00, -2.29890063e+00, -2.69859606e+00, -5.20567566e-01,\n",
       "       -1.89341041e+00,  8.35313738e-02, -1.84336897e+00, -1.78123762e+00,\n",
       "       -1.09033457e+00, -1.84007822e+00, -1.60784689e+00, -1.63682368e+00,\n",
       "       -1.85389144e+00, -1.18571898e+00, -1.84723792e+00, -5.07188114e-01,\n",
       "       -9.89615546e-01, -1.57273623e+00, -2.07066829e+00, -1.81134258e+00,\n",
       "       -1.43443852e+00, -1.35824947e-01, -6.36769858e-01, -1.54413707e+00,\n",
       "       -1.64062331e+00, -1.66472528e+00, -1.50064421e+00, -1.33238754e+00,\n",
       "       -1.51433266e+00, -1.92733633e-01, -1.50955742e+00, -1.33907297e+00,\n",
       "       -3.11919517e-01, -1.59833034e+00, -1.46107063e+00, -1.29422887e+00,\n",
       "       -1.69521598e+00, -3.39689436e-01, -4.67488037e-01, -1.36787200e+00,\n",
       "       -4.18375367e-02, -1.89377241e+00, -6.42237469e-01, -1.89171656e+00,\n",
       "        1.02146480e-01, -5.47764538e-01, -1.35341006e+00, -1.85249791e+00,\n",
       "       -8.75979840e-01, -7.41041707e-01, -2.27117238e+00, -3.32586327e+00,\n",
       "       -5.19341078e-01, -1.55455764e+00, -1.41543564e+00, -1.71769111e+00,\n",
       "       -1.66372732e+00, -1.67043726e+00,  5.49527013e-02, -6.20274420e-01,\n",
       "       -1.68933717e+00, -1.72014712e+00, -1.59071217e+00, -1.68793043e+00,\n",
       "       -1.60101340e+00, -2.14681199e-01, -1.55204759e+00, -1.66731638e+00,\n",
       "       -1.66289570e+00, -1.61168350e+00, -1.67096415e+00, -3.56932710e-01,\n",
       "       -1.67781690e+00, -2.15638799e+00, -1.49980687e+00, -2.21755775e+00,\n",
       "       -1.62839109e+00, -1.98528171e+00, -9.44975372e-02, -1.97354985e+00,\n",
       "       -1.00249891e+00, -1.46700328e+00, -1.59441933e+00, -2.03898362e+00,\n",
       "       -5.71928885e-02, -7.70039538e-01, -3.20426036e-01, -8.75821093e-01,\n",
       "       -1.75263328e+00, -1.76169101e+00, -1.61274771e+00, -1.76421596e+00,\n",
       "       -7.76773565e-01, -1.28021969e+00, -1.14620120e+00,  7.93603984e-02,\n",
       "       -2.44125542e-01, -1.74439507e+00, -1.31725275e+00, -4.47478910e-01,\n",
       "       -2.71138240e+00, -1.51599914e+00, -1.59420141e+00, -1.37849220e+00,\n",
       "       -1.38179507e+00, -9.05886930e-01, -1.50179767e+00, -1.41338155e+00,\n",
       "       -1.82180774e+00, -1.82164131e+00,  1.31548150e-01, -3.73409937e-01,\n",
       "       -1.40420183e+00, -1.61734953e+00, -1.67592170e+00, -6.43818339e-01,\n",
       "       -3.10563673e+00, -5.59439238e-01, -1.58345971e+00, -2.62193249e-01,\n",
       "       -1.93348876e+00, -1.46419829e+00, -9.37356364e-01, -9.09033618e-01,\n",
       "       -1.35690232e+00, -6.51752487e-01, -1.86002417e+00, -4.09229701e-01,\n",
       "       -1.68804046e+00, -1.83865598e+00, -1.46977728e+00, -1.47726484e+00,\n",
       "       -1.61405164e-01, -1.38621849e-01, -1.89076205e+00, -1.73791049e+00,\n",
       "       -1.71465066e+00, -5.50392684e-01, -1.45577591e+00, -1.89394388e+00,\n",
       "       -1.83580051e+00, -1.56833163e+00, -3.10368682e+00, -1.70094674e+00])"
      ]
     },
     "execution_count": 38,
     "metadata": {},
     "output_type": "execute_result"
    }
   ],
   "source": [
    "gm.score_samples(X)"
   ]
  },
  {
   "cell_type": "code",
   "execution_count": 39,
   "metadata": {},
   "outputs": [
    {
     "data": {
      "application/javascript": [
       "\n",
       "        if (window._pyforest_update_imports_cell) { window._pyforest_update_imports_cell('import numpy as np'); }\n",
       "    "
      ],
      "text/plain": [
       "<IPython.core.display.Javascript object>"
      ]
     },
     "metadata": {},
     "output_type": "display_data"
    }
   ],
   "source": [
    "densities = gm.score_samples(X)\n",
    "density_threshold = np.percentile(densities, 4)\n",
    "anomalies = X[densities < density_threshold]"
   ]
  },
  {
   "cell_type": "code",
   "execution_count": 40,
   "metadata": {},
   "outputs": [
    {
     "data": {
      "text/plain": [
       "2764.2497695289476"
      ]
     },
     "execution_count": 40,
     "metadata": {},
     "output_type": "execute_result"
    }
   ],
   "source": [
    "gm.bic(X)"
   ]
  },
  {
   "cell_type": "code",
   "execution_count": 41,
   "metadata": {},
   "outputs": [
    {
     "data": {
      "text/plain": [
       "2680.817929786251"
      ]
     },
     "execution_count": 41,
     "metadata": {},
     "output_type": "execute_result"
    }
   ],
   "source": [
    "gm.aic(X)"
   ]
  },
  {
   "cell_type": "code",
   "execution_count": 42,
   "metadata": {},
   "outputs": [
    {
     "name": "stderr",
     "output_type": "stream",
     "text": [
      "C:\\Users\\sagarw39\\Anaconda3\\lib\\site-packages\\sklearn\\mixture\\_base.py:265: ConvergenceWarning: Initialization 10 did not converge. Try different init parameters, or increase max_iter, tol or check for degenerate data.\n",
      "  warnings.warn('Initialization %d did not converge. '\n"
     ]
    },
    {
     "data": {
      "application/javascript": [
       "\n",
       "        if (window._pyforest_update_imports_cell) { window._pyforest_update_imports_cell('import numpy as np'); }\n",
       "    "
      ],
      "text/plain": [
       "<IPython.core.display.Javascript object>"
      ]
     },
     "metadata": {},
     "output_type": "display_data"
    },
    {
     "data": {
      "text/plain": [
       "array([0.15, 0.  , 0.01, 0.19, 0.15, 0.13, 0.11, 0.16, 0.11, 0.  ])"
      ]
     },
     "execution_count": 42,
     "metadata": {},
     "output_type": "execute_result"
    }
   ],
   "source": [
    "from sklearn.mixture import BayesianGaussianMixture\n",
    "bgm = BayesianGaussianMixture(n_components=10, n_init=10, random_state=42)\n",
    "bgm.fit(X)\n",
    "np.round(bgm.weights_, 2)"
   ]
  },
  {
   "cell_type": "code",
   "execution_count": null,
   "metadata": {},
   "outputs": [],
   "source": []
  }
 ],
 "metadata": {
  "kernelspec": {
   "display_name": "Python 3",
   "language": "python",
   "name": "python3"
  },
  "language_info": {
   "codemirror_mode": {
    "name": "ipython",
    "version": 3
   },
   "file_extension": ".py",
   "mimetype": "text/x-python",
   "name": "python",
   "nbconvert_exporter": "python",
   "pygments_lexer": "ipython3",
   "version": "3.8.3"
  }
 },
 "nbformat": 4,
 "nbformat_minor": 4
}
